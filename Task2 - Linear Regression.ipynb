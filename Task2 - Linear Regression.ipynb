{
 "cells": [
  {
   "cell_type": "markdown",
   "metadata": {},
   "source": [
    "## Application of Supervised Learning using some basic regression models to predict the possible exam score of a student putting in a given amount of time into the preparation"
   ]
  },
  {
   "cell_type": "markdown",
   "metadata": {},
   "source": [
    "Data set used: http://bit.ly/w-data"
   ]
  },
  {
   "cell_type": "markdown",
   "metadata": {},
   "source": [
    "## Necessary Imports"
   ]
  },
  {
   "cell_type": "code",
   "execution_count": 1,
   "metadata": {},
   "outputs": [],
   "source": [
    "import pandas as pd\n",
    "import numpy as np\n",
    "import matplotlib.pyplot as plt\n",
    "import seaborn as sns; sns.set()\n",
    "from sklearn.model_selection import train_test_split\n",
    "from sklearn.metrics import mean_absolute_error\n",
    "from sklearn.linear_model import LinearRegression\n",
    "from sklearn.linear_model import Ridge\n",
    "from sklearn.linear_model import Lasso\n",
    "from sklearn.svm import SVR\n",
    "np.random.seed(45)"
   ]
  },
  {
   "cell_type": "markdown",
   "metadata": {},
   "source": [
    "## Deploying the data"
   ]
  },
  {
   "cell_type": "code",
   "execution_count": 2,
   "metadata": {},
   "outputs": [
    {
     "name": "stdout",
     "output_type": "stream",
     "text": [
      "    Hours  Scores\n",
      "0     2.5      21\n",
      "1     5.1      47\n",
      "2     3.2      27\n",
      "3     8.5      75\n",
      "4     3.5      30\n",
      "5     1.5      20\n",
      "6     9.2      88\n",
      "7     5.5      60\n",
      "8     8.3      81\n",
      "9     2.7      25\n",
      "10    7.7      85\n",
      "11    5.9      62\n",
      "12    4.5      41\n",
      "13    3.3      42\n",
      "14    1.1      17\n",
      "15    8.9      95\n",
      "16    2.5      30\n",
      "17    1.9      24\n",
      "18    6.1      67\n",
      "19    7.4      69\n",
      "20    2.7      30\n",
      "21    4.8      54\n",
      "22    3.8      35\n",
      "23    6.9      76\n",
      "24    7.8      86\n"
     ]
    }
   ],
   "source": [
    "df_train = pd.read_csv('http://bit.ly/w-data')\n",
    "print(df_train)\n",
    "train_X = pd.DataFrame(df_train['Hours'])\n",
    "train_y = df_train['Scores']"
   ]
  },
  {
   "cell_type": "code",
   "execution_count": 3,
   "metadata": {},
   "outputs": [
    {
     "data": {
      "text/plain": [
       "Hours     0\n",
       "Scores    0\n",
       "dtype: int64"
      ]
     },
     "execution_count": 3,
     "metadata": {},
     "output_type": "execute_result"
    }
   ],
   "source": [
    "df_train.isnull().sum()"
   ]
  },
  {
   "cell_type": "markdown",
   "metadata": {},
   "source": [
    "## Analysis of the data and pre-processing (if found to be necessary)"
   ]
  },
  {
   "cell_type": "markdown",
   "metadata": {},
   "source": [
    "Before fitting the data using Linear Regression model, one must make sure if the underlying assumptions of the model are met.\n",
    "\n",
    "The main assumptions of the model may be listed as follows:\n",
    "\n",
    "1. The scatter plot between the feature and label must be linear\n",
    "2. Normally deistributed residuals, with mean ($\\mu$) = 0 and variance = $\\sigma^2$ > 0.\n",
    "\n"
   ]
  },
  {
   "cell_type": "code",
   "execution_count": 4,
   "metadata": {
    "scrolled": true
   },
   "outputs": [
    {
     "data": {
      "text/plain": [
       "<matplotlib.axes._subplots.AxesSubplot at 0x1782cf14160>"
      ]
     },
     "execution_count": 4,
     "metadata": {},
     "output_type": "execute_result"
    },
    {
     "data": {
      "image/png": "[encoded data removed]",
      "text/plain": [
       "<Figure size 432x288 with 1 Axes>"
      ]
     },
     "metadata": {
      "needs_background": "light"
     },
     "output_type": "display_data"
    }
   ],
   "source": [
    "# Ensuring assumption 1 is satisfied\n",
    "sns.scatterplot('Hours', 'Scores', data = df_train)"
   ]
  },
  {
   "cell_type": "markdown",
   "metadata": {},
   "source": [
    "It is quite evident from the above scatter plot that the data is linearly separable, and hence the <b>$1^{st}$</b> assumption stated above is satisfied by the data. <b> Hence an explicit pre-processing step is unnecessary </b>"
   ]
  },
  {
   "cell_type": "markdown",
   "metadata": {},
   "source": [
    "# Fitting the data"
   ]
  },
  {
   "cell_type": "markdown",
   "metadata": {},
   "source": [
    "## Linear Regression from scratch\n",
    "\n",
    "\n",
    "One good practice while experimenting with models is to try building simple linear models from scratch in order to truly understand the mechanism undelying the model.\n",
    "\n",
    "## Preliminary\n",
    "\n",
    "The rudimentary equation underlying the model.i.e., the one that governs the prediction output from the data is as follows:\n",
    "\n",
    "y = $\\theta_0 + \\theta_1X_1 + \\theta_2X_2 + ..+  \\epsilon$  \n",
    "\n",
    "where all the $X_j$ are the feature vectors (in our case it is 'Hours') and $\\theta_j$ are the parameters of the model that are to be optimized to achieve the best fitting line.\n",
    "\n",
    "But How do we optimize the model parameters?\n",
    "\n",
    "There are a lot of ways to do so: <b> Stochastics Gradient Descent, Batch Gradient Descent, Mini-Batch Gradient Descent, etc. </b>\n",
    "\n",
    "I will be using the <b>Batch gradient descent</b> method here.\n",
    "\n",
    "According to the batch gradient descent, one may iterate over the following equation untill the global minimum (of the cost function) is achieved.\n",
    "\n",
    "$\\theta_j$ := $\\theta_j$ - $\\alpha$*$\\Sigma_{i = 1}^{n}$($h_\\theta(X^i) - y^i)*X^i_j$, where $\\alpha$ is the learning rate (it decides the amount of jump necessary to reach the minimum of the cost function) and $X^i$, $y^i$ denotes to $i^{th}$ row of the features and labels. The hypothesis function (the one that governs the prediction values) is: $h_\\theta(X) = \\theta_0 + \\theta_1X_1 + \\theta_2X_2 + ....$\n",
    "\n",
    "The assumption made here on the residual values ($\\epsilon$) is that they should be normally distributed with mean 0. "
   ]
  },
  {
   "cell_type": "code",
   "execution_count": 5,
   "metadata": {},
   "outputs": [],
   "source": [
    "def Preprocessing(X, y = 0):\n",
    "# To account for the intercept term.i.e., theta_0, the data must be added with an all ones column\n",
    "    X.insert(0, \"Ones\", np.ones(X.shape[0])) \n",
    "    return X, y\n",
    "X_train, y = Preprocessing(train_X, train_y)"
   ]
  },
  {
   "cell_type": "code",
   "execution_count": 6,
   "metadata": {},
   "outputs": [],
   "source": [
    "# Model fitting from scratch\n",
    "\n",
    "class LinearRegressor:\n",
    "    def __init__(self, X, y, alpha, num_iter):\n",
    "        self.X = X\n",
    "        self.y = y\n",
    "        self.alpha = alpha\n",
    "        self.num_iter = num_iter\n",
    "    def Model(self):\n",
    "        self.theta = np.zeros(self.X.shape[1])\n",
    "        columns = self.X.columns\n",
    "        for i in range(self.num_iter):\n",
    "            for j in range(self.X.shape[0]):\n",
    "                for k in range(len(self.theta)):\n",
    "                    self.theta[k] = self.theta[k] - self.alpha*np.sum((np.dot(self.X.iloc[j], self.theta) - self.y.iloc[j])*self.X[columns[k]][j])\n",
    "        self.y_hat = np.dot(self.X, self.theta)\n",
    "        return self.theta.tolist(), self.y_hat.tolist()"
   ]
  },
  {
   "cell_type": "code",
   "execution_count": 7,
   "metadata": {},
   "outputs": [],
   "source": [
    "alpha = 0.001\n",
    "num_iter = 1000\n",
    "\n",
    "lr = LinearRegressor(X_train, y, alpha, num_iter)\n",
    "theta = lr.Model()[0] # y-intercept and the slope of the line\n",
    "y_hat = lr.Model()[1] # fitted values of scores"
   ]
  },
  {
   "cell_type": "code",
   "execution_count": 8,
   "metadata": {},
   "outputs": [
    {
     "data": {
      "text/plain": [
       "[Text(0, 0.5, 'residuals'),\n",
       " Text(0.5, 0, 'true scores'),\n",
       " Text(0.5, 1.0, 'Residual plot')]"
      ]
     },
     "execution_count": 8,
     "metadata": {},
     "output_type": "execute_result"
    },
    {
     "data": {
      "image/png": "[encoded data removed]",
      "text/plain": [
       "<Figure size 432x288 with 1 Axes>"
      ]
     },
     "metadata": {
      "needs_background": "light"
     },
     "output_type": "display_data"
    }
   ],
   "source": [
    "# Ensuring assumption 2 is satisfied\n",
    "ax = sns.residplot(y_hat - train_y, train_y)\n",
    "ax.set(title='Residual plot', xlabel='true scores', ylabel='residuals')"
   ]
  },
  {
   "cell_type": "markdown",
   "metadata": {},
   "source": [
    "It is very evident from the above plot that the residuals are centered at 0 with roughly equal number of points on either side of the reference line. Hence assumption 2 is also satisfied.\n",
    "\n",
    "Now we may be sure of using the model for predicting outcomes from new data"
   ]
  },
  {
   "cell_type": "markdown",
   "metadata": {},
   "source": [
    "## Comparing the performance of the APIs (by sklearn) to the model created from scratch, using MAE cross-validation technique"
   ]
  },
  {
   "cell_type": "markdown",
   "metadata": {},
   "source": [
    "By all obvious means, I don't claim that my \"coded from scratch\" model is the best one, but the model is quite valid and considerable given the fact that all the assumptions underlying the model are satisfied above."
   ]
  },
  {
   "cell_type": "markdown",
   "metadata": {},
   "source": [
    "## Linear Regression API from sklearn"
   ]
  },
  {
   "cell_type": "code",
   "execution_count": 9,
   "metadata": {},
   "outputs": [],
   "source": [
    "train_X = train_X.drop(columns = 'Ones') # We don't require the extra ones column anymore\n",
    "\n",
    "# Splitting the data for cross-validation\n",
    "X_train_val, X_test_val, y_train, y_test = train_test_split(train_X, train_y, test_size=0.33, random_state=42)"
   ]
  },
  {
   "cell_type": "code",
   "execution_count": 10,
   "metadata": {},
   "outputs": [
    {
     "name": "stdout",
     "output_type": "stream",
     "text": [
      "The MAE for predictions based on Linear regression is: 4.564015037730867\n",
      "The MAE for predictions based on regression model built from scratch is: 4.937591116686244\n"
     ]
    }
   ],
   "source": [
    "# Using conventional Linear Regression\n",
    "lr = LinearRegression()\n",
    "lr.fit(X_train_val, y_train)\n",
    "y_lr = lr.predict(X_test_val)\n",
    "print('The MAE for predictions based on Linear regression is: {}'.format(mean_absolute_error(y_lr, y_test)))\n",
    "\n",
    "# Using the model built from scratch\n",
    "X_train_scratch, a = Preprocessing(train_X)\n",
    "print('The MAE for predictions based on regression model built from scratch is: {}'.format(mean_absolute_error(np.dot(X_train_scratch, theta), train_y)))"
   ]
  },
  {
   "cell_type": "markdown",
   "metadata": {},
   "source": [
    "### Wait, can we achieve a better accuracy using other models such as regularized LR (ridge and lasso) or SVM ?"
   ]
  },
  {
   "cell_type": "markdown",
   "metadata": {},
   "source": [
    "## Ridge Regression"
   ]
  },
  {
   "cell_type": "code",
   "execution_count": 11,
   "metadata": {},
   "outputs": [
    {
     "name": "stdout",
     "output_type": "stream",
     "text": [
      "The MAE for predictions based on Ridge regression is : 4.564015037732243\n"
     ]
    }
   ],
   "source": [
    "ridge_lr = Ridge(alpha=10**(-10))\n",
    "ridge_lr.fit(X_train_val, y_train)\n",
    "y_ridge_lr = ridge_lr.predict(X_test_val)\n",
    "print('The MAE for predictions based on Ridge regression is : {}'.format(mean_absolute_error(y_ridge_lr, y_test)))"
   ]
  },
  {
   "cell_type": "markdown",
   "metadata": {},
   "source": [
    "## Lasso Regression"
   ]
  },
  {
   "cell_type": "code",
   "execution_count": 12,
   "metadata": {},
   "outputs": [
    {
     "name": "stdout",
     "output_type": "stream",
     "text": [
      "The MAE for predictions based on Lasso regression is: 4.564015037733149\n"
     ]
    }
   ],
   "source": [
    "lasso_lr = Lasso(alpha=10**(-10))\n",
    "lasso_lr.fit(X_train_val, y_train)\n",
    "y_lasso_lr = lasso_lr.predict(X_test_val)\n",
    "print('The MAE for predictions based on Lasso regression is: {}'.format(mean_absolute_error(y_lasso_lr, y_test)))"
   ]
  },
  {
   "cell_type": "markdown",
   "metadata": {},
   "source": [
    "## SVM "
   ]
  },
  {
   "cell_type": "code",
   "execution_count": 13,
   "metadata": {},
   "outputs": [
    {
     "name": "stdout",
     "output_type": "stream",
     "text": [
      "The MAE for predictions based on SVM regression is: 5.5182491900599615\n"
     ]
    }
   ],
   "source": [
    "svr = SVR(gamma = 'auto', C = 23)\n",
    "svr.fit(X_train_val, y_train)\n",
    "y_svr = svr.predict(X_test_val)\n",
    "print('The MAE for predictions based on SVM regression is: {}'.format(mean_absolute_error(y_svr, y_test)))"
   ]
  },
  {
   "cell_type": "markdown",
   "metadata": {},
   "source": [
    "| Ranking (topmost being the best) | Model | Mean Absolute error ($L_1$ error) |\n",
    "| --- | --- | --- |\n",
    "| 1 | Ridge regression | 4.564 + 22 * $10^{-13}$ |\n",
    "| 2 | Lasso Regression | 4.564 + 33 * $10^{-13}$|\n",
    "| 3 | Linear regression by sklearn | 4.564 + 86*$10^{-13}$|\n",
    "| 4 | Linear regression from scratch | 4.937 |\n",
    "| 5 | Support Vector Machine (SVM) Regressor | 5.518 |"
   ]
  },
  {
   "cell_type": "markdown",
   "metadata": {},
   "source": [
    "### Probably, the best model out of the above experimented models is the Ridge Regressor (by a very small margin!)"
   ]
  },
  {
   "cell_type": "markdown",
   "metadata": {},
   "source": [
    "## Predictions"
   ]
  },
  {
   "cell_type": "code",
   "execution_count": 14,
   "metadata": {},
   "outputs": [
    {
     "data": {
      "text/plain": [
       "[Text(0.5, 1.0, 'Regression line')]"
      ]
     },
     "execution_count": 14,
     "metadata": {},
     "output_type": "execute_result"
    },
    {
     "data": {
      "image/png": "[encoded data removed]",
      "text/plain": [
       "<Figure size 432x288 with 1 Axes>"
      ]
     },
     "metadata": {
      "needs_background": "light"
     },
     "output_type": "display_data"
    }
   ],
   "source": [
    "train_X = train_X.drop(columns = 'Ones')\n",
    "\n",
    "ridge_lr = Ridge(alpha = 10**(-10))\n",
    "ridge_lr.fit(train_X, train_y)\n",
    "X_test = pd.DataFrame({'Hours': [9.25]})\n",
    "\n",
    "ax = sns.scatterplot('Hours', 'Scores', data=df_train)\n",
    "ax = sns.regplot('Hours', ridge_lr.predict(train_X), data=df_train)\n",
    "ax.set(title='Regression line')"
   ]
  },
  {
   "cell_type": "code",
   "execution_count": 15,
   "metadata": {},
   "outputs": [
    {
     "name": "stdout",
     "output_type": "stream",
     "text": [
      "The slope of the linear plot which best fits the data is: 9.775803390781086\n",
      "The intercept of the linear plot which best fits the data is: 2.4836734054051988\n"
     ]
    }
   ],
   "source": [
    "print('The slope of the linear plot which best fits the data is: {}'.format(ridge_lr.coef_[0]))\n",
    "print('The intercept of the linear plot which best fits the data is: {}'.format(ridge_lr.intercept_))"
   ]
  },
  {
   "cell_type": "code",
   "execution_count": 16,
   "metadata": {},
   "outputs": [
    {
     "name": "stdout",
     "output_type": "stream",
     "text": [
      "The predicted Score of the student if he/she puts in 9.25 hrs of work is: 92.90985477013024\n"
     ]
    }
   ],
   "source": [
    "y_pred = ridge_lr.predict(X_test).tolist()[0]\n",
    "print('The predicted Score of the student if he/she puts in 9.25 hrs of work is: {}'.format(y_pred))"
   ]
  },
  {
   "cell_type": "markdown",
   "metadata": {},
   "source": [
    "## Conclusion\n",
    "\n",
    "#### The student is predicted to obtain a score of about 93 on spending 9.25 hrs of study time."
   ]
  }
 ],
 "metadata": {
  "kernelspec": {
   "display_name": "Python 3",
   "language": "python",
   "name": "python3"
  },
  "language_info": {
   "codemirror_mode": {
    "name": "ipython",
    "version": 3
   },
   "file_extension": ".py",
   "mimetype": "text/x-python",
   "name": "python",
   "nbconvert_exporter": "python",
   "pygments_lexer": "ipython3",
   "version": "3.7.3"
  }
 },
 "nbformat": 4,
 "nbformat_minor": 2
}
